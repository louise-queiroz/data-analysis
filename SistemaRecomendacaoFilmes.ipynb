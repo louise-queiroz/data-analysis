{
 "cells": [
  {
   "cell_type": "code",
   "execution_count": 12,
   "id": "db06760b-08f1-41ce-81a0-313f2eb72fb6",
   "metadata": {},
   "outputs": [
    {
     "data": {
      "text/html": [
       "<div>\n",
       "<style scoped>\n",
       "    .dataframe tbody tr th:only-of-type {\n",
       "        vertical-align: middle;\n",
       "    }\n",
       "\n",
       "    .dataframe tbody tr th {\n",
       "        vertical-align: top;\n",
       "    }\n",
       "\n",
       "    .dataframe thead th {\n",
       "        text-align: right;\n",
       "    }\n",
       "</style>\n",
       "<table border=\"1\" class=\"dataframe\">\n",
       "  <thead>\n",
       "    <tr style=\"text-align: right;\">\n",
       "      <th></th>\n",
       "      <th>movieId</th>\n",
       "      <th>title</th>\n",
       "      <th>genres</th>\n",
       "    </tr>\n",
       "  </thead>\n",
       "  <tbody>\n",
       "    <tr>\n",
       "      <th>0</th>\n",
       "      <td>1</td>\n",
       "      <td>Toy Story (1995)</td>\n",
       "      <td>Adventure|Animation|Children|Comedy|Fantasy</td>\n",
       "    </tr>\n",
       "    <tr>\n",
       "      <th>1</th>\n",
       "      <td>2</td>\n",
       "      <td>Jumanji (1995)</td>\n",
       "      <td>Adventure|Children|Fantasy</td>\n",
       "    </tr>\n",
       "    <tr>\n",
       "      <th>2</th>\n",
       "      <td>3</td>\n",
       "      <td>Grumpier Old Men (1995)</td>\n",
       "      <td>Comedy|Romance</td>\n",
       "    </tr>\n",
       "    <tr>\n",
       "      <th>3</th>\n",
       "      <td>4</td>\n",
       "      <td>Waiting to Exhale (1995)</td>\n",
       "      <td>Comedy|Drama|Romance</td>\n",
       "    </tr>\n",
       "    <tr>\n",
       "      <th>4</th>\n",
       "      <td>5</td>\n",
       "      <td>Father of the Bride Part II (1995)</td>\n",
       "      <td>Comedy</td>\n",
       "    </tr>\n",
       "  </tbody>\n",
       "</table>\n",
       "</div>"
      ],
      "text/plain": [
       "   movieId                               title  \\\n",
       "0        1                    Toy Story (1995)   \n",
       "1        2                      Jumanji (1995)   \n",
       "2        3             Grumpier Old Men (1995)   \n",
       "3        4            Waiting to Exhale (1995)   \n",
       "4        5  Father of the Bride Part II (1995)   \n",
       "\n",
       "                                        genres  \n",
       "0  Adventure|Animation|Children|Comedy|Fantasy  \n",
       "1                   Adventure|Children|Fantasy  \n",
       "2                               Comedy|Romance  \n",
       "3                         Comedy|Drama|Romance  \n",
       "4                                       Comedy  "
      ]
     },
     "execution_count": 12,
     "metadata": {},
     "output_type": "execute_result"
    }
   ],
   "source": [
    "import pandas as pd\n",
    "\n",
    "movies = pd.read_csv(\"ml-25m/movies.csv\")\n",
    "\n",
    "movies.head()"
   ]
  },
  {
   "cell_type": "code",
   "execution_count": 16,
   "id": "35ec6da4-6da2-41c4-ba26-23cfd6840fd8",
   "metadata": {},
   "outputs": [],
   "source": [
    "import re\n",
    "\n",
    "def clean_title(title):\n",
    "    title = re.sub(\"[^a-zA-Z0-9 ]\", \"\", title)\n",
    "    return title"
   ]
  },
  {
   "cell_type": "code",
   "execution_count": 20,
   "id": "4d13154a-2cc4-44fc-a529-d9336c2183d8",
   "metadata": {},
   "outputs": [],
   "source": [
    "movies[\"clean_title\"] = movies[\"title\"].apply(clean_title)"
   ]
  },
  {
   "cell_type": "code",
   "execution_count": 19,
   "id": "e1774297-6a89-45b3-826a-33925145b425",
   "metadata": {},
   "outputs": [
    {
     "data": {
      "text/html": [
       "<div>\n",
       "<style scoped>\n",
       "    .dataframe tbody tr th:only-of-type {\n",
       "        vertical-align: middle;\n",
       "    }\n",
       "\n",
       "    .dataframe tbody tr th {\n",
       "        vertical-align: top;\n",
       "    }\n",
       "\n",
       "    .dataframe thead th {\n",
       "        text-align: right;\n",
       "    }\n",
       "</style>\n",
       "<table border=\"1\" class=\"dataframe\">\n",
       "  <thead>\n",
       "    <tr style=\"text-align: right;\">\n",
       "      <th></th>\n",
       "      <th>movieId</th>\n",
       "      <th>title</th>\n",
       "      <th>genres</th>\n",
       "      <th>clean_title</th>\n",
       "    </tr>\n",
       "  </thead>\n",
       "  <tbody>\n",
       "    <tr>\n",
       "      <th>0</th>\n",
       "      <td>1</td>\n",
       "      <td>Toy Story (1995)</td>\n",
       "      <td>Adventure|Animation|Children|Comedy|Fantasy</td>\n",
       "      <td>Toy Story 1995</td>\n",
       "    </tr>\n",
       "    <tr>\n",
       "      <th>1</th>\n",
       "      <td>2</td>\n",
       "      <td>Jumanji (1995)</td>\n",
       "      <td>Adventure|Children|Fantasy</td>\n",
       "      <td>Jumanji 1995</td>\n",
       "    </tr>\n",
       "    <tr>\n",
       "      <th>2</th>\n",
       "      <td>3</td>\n",
       "      <td>Grumpier Old Men (1995)</td>\n",
       "      <td>Comedy|Romance</td>\n",
       "      <td>Grumpier Old Men 1995</td>\n",
       "    </tr>\n",
       "    <tr>\n",
       "      <th>3</th>\n",
       "      <td>4</td>\n",
       "      <td>Waiting to Exhale (1995)</td>\n",
       "      <td>Comedy|Drama|Romance</td>\n",
       "      <td>Waiting to Exhale 1995</td>\n",
       "    </tr>\n",
       "    <tr>\n",
       "      <th>4</th>\n",
       "      <td>5</td>\n",
       "      <td>Father of the Bride Part II (1995)</td>\n",
       "      <td>Comedy</td>\n",
       "      <td>Father of the Bride Part II 1995</td>\n",
       "    </tr>\n",
       "    <tr>\n",
       "      <th>...</th>\n",
       "      <td>...</td>\n",
       "      <td>...</td>\n",
       "      <td>...</td>\n",
       "      <td>...</td>\n",
       "    </tr>\n",
       "    <tr>\n",
       "      <th>62418</th>\n",
       "      <td>209157</td>\n",
       "      <td>We (2018)</td>\n",
       "      <td>Drama</td>\n",
       "      <td>We 2018</td>\n",
       "    </tr>\n",
       "    <tr>\n",
       "      <th>62419</th>\n",
       "      <td>209159</td>\n",
       "      <td>Window of the Soul (2001)</td>\n",
       "      <td>Documentary</td>\n",
       "      <td>Window of the Soul 2001</td>\n",
       "    </tr>\n",
       "    <tr>\n",
       "      <th>62420</th>\n",
       "      <td>209163</td>\n",
       "      <td>Bad Poems (2018)</td>\n",
       "      <td>Comedy|Drama</td>\n",
       "      <td>Bad Poems 2018</td>\n",
       "    </tr>\n",
       "    <tr>\n",
       "      <th>62421</th>\n",
       "      <td>209169</td>\n",
       "      <td>A Girl Thing (2001)</td>\n",
       "      <td>(no genres listed)</td>\n",
       "      <td>A Girl Thing 2001</td>\n",
       "    </tr>\n",
       "    <tr>\n",
       "      <th>62422</th>\n",
       "      <td>209171</td>\n",
       "      <td>Women of Devil's Island (1962)</td>\n",
       "      <td>Action|Adventure|Drama</td>\n",
       "      <td>Women of Devils Island 1962</td>\n",
       "    </tr>\n",
       "  </tbody>\n",
       "</table>\n",
       "<p>62423 rows × 4 columns</p>\n",
       "</div>"
      ],
      "text/plain": [
       "       movieId                               title  \\\n",
       "0            1                    Toy Story (1995)   \n",
       "1            2                      Jumanji (1995)   \n",
       "2            3             Grumpier Old Men (1995)   \n",
       "3            4            Waiting to Exhale (1995)   \n",
       "4            5  Father of the Bride Part II (1995)   \n",
       "...        ...                                 ...   \n",
       "62418   209157                           We (2018)   \n",
       "62419   209159           Window of the Soul (2001)   \n",
       "62420   209163                    Bad Poems (2018)   \n",
       "62421   209169                 A Girl Thing (2001)   \n",
       "62422   209171      Women of Devil's Island (1962)   \n",
       "\n",
       "                                            genres  \\\n",
       "0      Adventure|Animation|Children|Comedy|Fantasy   \n",
       "1                       Adventure|Children|Fantasy   \n",
       "2                                   Comedy|Romance   \n",
       "3                             Comedy|Drama|Romance   \n",
       "4                                           Comedy   \n",
       "...                                            ...   \n",
       "62418                                        Drama   \n",
       "62419                                  Documentary   \n",
       "62420                                 Comedy|Drama   \n",
       "62421                           (no genres listed)   \n",
       "62422                       Action|Adventure|Drama   \n",
       "\n",
       "                            clean_title  \n",
       "0                        Toy Story 1995  \n",
       "1                          Jumanji 1995  \n",
       "2                 Grumpier Old Men 1995  \n",
       "3                Waiting to Exhale 1995  \n",
       "4      Father of the Bride Part II 1995  \n",
       "...                                 ...  \n",
       "62418                           We 2018  \n",
       "62419           Window of the Soul 2001  \n",
       "62420                    Bad Poems 2018  \n",
       "62421                 A Girl Thing 2001  \n",
       "62422       Women of Devils Island 1962  \n",
       "\n",
       "[62423 rows x 4 columns]"
      ]
     },
     "execution_count": 19,
     "metadata": {},
     "output_type": "execute_result"
    }
   ],
   "source": [
    "movies"
   ]
  },
  {
   "cell_type": "code",
   "execution_count": 22,
   "id": "e5ca9219-6d51-46f2-9217-1f70146e5424",
   "metadata": {},
   "outputs": [],
   "source": [
    "from sklearn.feature_extraction.text import TfidfVectorizer\n",
    "vectorizer = TfidfVectorizer(ngram_range=(1,2))\n",
    "\n",
    "tfidf = vectorizer.fit_transform(movies[\"clean_title\"])"
   ]
  },
  {
   "cell_type": "code",
   "execution_count": 24,
   "id": "46fdbdc2-a48a-4802-8425-f49061d707c6",
   "metadata": {},
   "outputs": [],
   "source": [
    "from sklearn.metrics.pairwise import cosine_similarity\n",
    "import numpy as np\n",
    "\n",
    "def search(title):\n",
    "    title = clean_title(title)\n",
    "    query_vec = vectorizer.transform([title])\n",
    "    similarity = cosine_similarity(query_vec, tfidf).flatten()\n",
    "    indices = np.argpartition(similarity, -5) [-5:]\n",
    "    results = movies.iloc[indices].iloc[::-1]\n",
    "\n",
    "    return results"
   ]
  },
  {
   "cell_type": "code",
   "execution_count": 30,
   "id": "2bf8f8f0-b0df-4daa-a7b7-bc188b28f507",
   "metadata": {},
   "outputs": [
    {
     "data": {
      "application/vnd.jupyter.widget-view+json": {
       "model_id": "99504f73039b41e6aabfb95662381585",
       "version_major": 2,
       "version_minor": 0
      },
      "text/plain": [
       "Text(value='Toy Story', description='Movie Title:')"
      ]
     },
     "metadata": {},
     "output_type": "display_data"
    },
    {
     "data": {
      "application/vnd.jupyter.widget-view+json": {
       "model_id": "57cc2196697541a68b2cb98eab8d382d",
       "version_major": 2,
       "version_minor": 0
      },
      "text/plain": [
       "Output()"
      ]
     },
     "metadata": {},
     "output_type": "display_data"
    }
   ],
   "source": [
    "import ipywidgets as widgets\n",
    "from IPython.display import display\n",
    "\n",
    "movie_input = widgets.Text(\n",
    "    value='Toy Story',\n",
    "    description='Movie Title:',\n",
    "    disabled=False\n",
    ")\n",
    "\n",
    "movie_list = widgets.Output()\n",
    "\n",
    "def on_type(data):\n",
    "    with movie_list:\n",
    "        movie_list.clear_output()\n",
    "        title = data[\"new\"]\n",
    "        if len(title) > 5:\n",
    "            display(search(title))\n",
    "        \n",
    "movie_input.observe(on_type, names='value')\n",
    "\n",
    "display(movie_input, movie_list)"
   ]
  },
  {
   "cell_type": "code",
   "execution_count": 65,
   "id": "7bb034d0-ea45-4e93-ac3a-083b4269f935",
   "metadata": {},
   "outputs": [],
   "source": [
    "movie_id = 89745\n",
    "\n",
    "#def find_similar_movies(movie_id):\n",
    "movie = movies[movies[\"movieId\"] == movie_id]"
   ]
  },
  {
   "cell_type": "code",
   "execution_count": null,
   "id": "c5629dde-83b7-4e64-b286-cd7ae9359d2c",
   "metadata": {},
   "outputs": [],
   "source": [
    "ratings = pd.read_csv(\"ml-25m/ratings.csv\")"
   ]
  },
  {
   "cell_type": "code",
   "execution_count": 34,
   "id": "2fcf0f1f-4410-4a7b-8be0-306ab22456fe",
   "metadata": {},
   "outputs": [
    {
     "data": {
      "text/plain": [
       "userId         int64\n",
       "movieId        int64\n",
       "rating       float64\n",
       "timestamp      int64\n",
       "dtype: object"
      ]
     },
     "execution_count": 34,
     "metadata": {},
     "output_type": "execute_result"
    }
   ],
   "source": [
    "ratings.dtypes"
   ]
  },
  {
   "cell_type": "code",
   "execution_count": 54,
   "id": "753bb886-55a2-4e43-b819-2eb8d68aa3c9",
   "metadata": {},
   "outputs": [],
   "source": [
    "similar_users = ratings[(ratings[\"movieId\"] == movie_id) & (ratings[\"rating\"] > 4)][\"userId\"].unique()"
   ]
  },
  {
   "cell_type": "code",
   "execution_count": 55,
   "id": "109c0e43-2a72-4db5-ae6c-8472dbcda69a",
   "metadata": {},
   "outputs": [],
   "source": [
    "similar_user_recs = ratings[(ratings[\"userId\"].isin(similar_users)) & (ratings[\"rating\"] > 4)][\"movieId\"]"
   ]
  },
  {
   "cell_type": "code",
   "execution_count": 56,
   "id": "c57a0ada-ec93-4b8c-a144-6ac5dee8e236",
   "metadata": {},
   "outputs": [],
   "source": [
    "similar_user_recs = similar_user_recs.value_counts() / len(similar_users)\n",
    "\n",
    "similar_user_recs = similar_user_recs[similar_user_recs > .10]"
   ]
  },
  {
   "cell_type": "code",
   "execution_count": 57,
   "id": "89423179-0b21-4775-b383-326a5055003d",
   "metadata": {},
   "outputs": [],
   "source": [
    "all_users = ratings[(ratings[\"movieId\"].isin(similar_user_recs.index)) & (ratings[\"rating\"] > 4)]"
   ]
  },
  {
   "cell_type": "code",
   "execution_count": 59,
   "id": "be7dbaba-f100-4991-bb97-42885410e9bd",
   "metadata": {},
   "outputs": [],
   "source": [
    "all_user_recs = all_users[\"movieId\"].value_counts() / len(all_users[\"userId\"].unique())"
   ]
  },
  {
   "cell_type": "code",
   "execution_count": 61,
   "id": "d3836ccb-c68b-4fa7-a399-bc5bb8fe8dad",
   "metadata": {},
   "outputs": [],
   "source": [
    "rec_percentages = pd.concat([similar_user_recs, all_user_recs], axis=1)\n",
    "rec_percentages.columns = [\"similar\",\"all\"]"
   ]
  },
  {
   "cell_type": "code",
   "execution_count": 62,
   "id": "32d06a4c-bdf0-4f5c-bc66-39fde8f5be21",
   "metadata": {},
   "outputs": [],
   "source": [
    "rec_percentages[\"score\"] = rec_percentages[\"similar\"] / rec_percentages[\"all\"]"
   ]
  },
  {
   "cell_type": "code",
   "execution_count": 63,
   "id": "409ab3d9-45af-43e7-899d-337df54d0adc",
   "metadata": {},
   "outputs": [],
   "source": [
    "rec_percentages = rec_percentages.sort_values(\"score\", ascending=False)"
   ]
  },
  {
   "cell_type": "code",
   "execution_count": 64,
   "id": "6cdc5258-4afd-4e90-9c05-a8ee6ba7b373",
   "metadata": {},
   "outputs": [
    {
     "data": {
      "text/html": [
       "<div>\n",
       "<style scoped>\n",
       "    .dataframe tbody tr th:only-of-type {\n",
       "        vertical-align: middle;\n",
       "    }\n",
       "\n",
       "    .dataframe tbody tr th {\n",
       "        vertical-align: top;\n",
       "    }\n",
       "\n",
       "    .dataframe thead th {\n",
       "        text-align: right;\n",
       "    }\n",
       "</style>\n",
       "<table border=\"1\" class=\"dataframe\">\n",
       "  <thead>\n",
       "    <tr style=\"text-align: right;\">\n",
       "      <th></th>\n",
       "      <th>similar</th>\n",
       "      <th>all</th>\n",
       "      <th>score</th>\n",
       "      <th>movieId</th>\n",
       "      <th>title</th>\n",
       "      <th>genres</th>\n",
       "      <th>clean_title</th>\n",
       "    </tr>\n",
       "  </thead>\n",
       "  <tbody>\n",
       "    <tr>\n",
       "      <th>0</th>\n",
       "      <td>1.000000</td>\n",
       "      <td>0.124728</td>\n",
       "      <td>8.017414</td>\n",
       "      <td>1</td>\n",
       "      <td>Toy Story (1995)</td>\n",
       "      <td>Adventure|Animation|Children|Comedy|Fantasy</td>\n",
       "      <td>Toy Story 1995</td>\n",
       "    </tr>\n",
       "    <tr>\n",
       "      <th>3021</th>\n",
       "      <td>0.280648</td>\n",
       "      <td>0.053706</td>\n",
       "      <td>5.225654</td>\n",
       "      <td>3114</td>\n",
       "      <td>Toy Story 2 (1999)</td>\n",
       "      <td>Adventure|Animation|Children|Comedy|Fantasy</td>\n",
       "      <td>Toy Story 2 1999</td>\n",
       "    </tr>\n",
       "    <tr>\n",
       "      <th>2264</th>\n",
       "      <td>0.110539</td>\n",
       "      <td>0.025091</td>\n",
       "      <td>4.405452</td>\n",
       "      <td>2355</td>\n",
       "      <td>Bug's Life, A (1998)</td>\n",
       "      <td>Adventure|Animation|Children|Comedy</td>\n",
       "      <td>Bugs Life A 1998</td>\n",
       "    </tr>\n",
       "    <tr>\n",
       "      <th>14813</th>\n",
       "      <td>0.152960</td>\n",
       "      <td>0.035131</td>\n",
       "      <td>4.354038</td>\n",
       "      <td>78499</td>\n",
       "      <td>Toy Story 3 (2010)</td>\n",
       "      <td>Adventure|Animation|Children|Comedy|Fantasy|IMAX</td>\n",
       "      <td>Toy Story 3 2010</td>\n",
       "    </tr>\n",
       "    <tr>\n",
       "      <th>4780</th>\n",
       "      <td>0.235147</td>\n",
       "      <td>0.070811</td>\n",
       "      <td>3.320783</td>\n",
       "      <td>4886</td>\n",
       "      <td>Monsters, Inc. (2001)</td>\n",
       "      <td>Adventure|Animation|Children|Comedy|Fantasy</td>\n",
       "      <td>Monsters Inc 2001</td>\n",
       "    </tr>\n",
       "    <tr>\n",
       "      <th>580</th>\n",
       "      <td>0.216618</td>\n",
       "      <td>0.067513</td>\n",
       "      <td>3.208539</td>\n",
       "      <td>588</td>\n",
       "      <td>Aladdin (1992)</td>\n",
       "      <td>Adventure|Animation|Children|Comedy|Musical</td>\n",
       "      <td>Aladdin 1992</td>\n",
       "    </tr>\n",
       "    <tr>\n",
       "      <th>6258</th>\n",
       "      <td>0.228139</td>\n",
       "      <td>0.072268</td>\n",
       "      <td>3.156862</td>\n",
       "      <td>6377</td>\n",
       "      <td>Finding Nemo (2003)</td>\n",
       "      <td>Adventure|Animation|Children|Comedy</td>\n",
       "      <td>Finding Nemo 2003</td>\n",
       "    </tr>\n",
       "    <tr>\n",
       "      <th>587</th>\n",
       "      <td>0.179400</td>\n",
       "      <td>0.059977</td>\n",
       "      <td>2.991150</td>\n",
       "      <td>595</td>\n",
       "      <td>Beauty and the Beast (1991)</td>\n",
       "      <td>Animation|Children|Fantasy|Musical|Romance|IMAX</td>\n",
       "      <td>Beauty and the Beast 1991</td>\n",
       "    </tr>\n",
       "    <tr>\n",
       "      <th>8246</th>\n",
       "      <td>0.203504</td>\n",
       "      <td>0.068453</td>\n",
       "      <td>2.972889</td>\n",
       "      <td>8961</td>\n",
       "      <td>Incredibles, The (2004)</td>\n",
       "      <td>Action|Adventure|Animation|Children|Comedy</td>\n",
       "      <td>Incredibles The 2004</td>\n",
       "    </tr>\n",
       "    <tr>\n",
       "      <th>359</th>\n",
       "      <td>0.253411</td>\n",
       "      <td>0.085764</td>\n",
       "      <td>2.954762</td>\n",
       "      <td>364</td>\n",
       "      <td>Lion King, The (1994)</td>\n",
       "      <td>Adventure|Animation|Children|Drama|Musical|IMAX</td>\n",
       "      <td>Lion King The 1994</td>\n",
       "    </tr>\n",
       "  </tbody>\n",
       "</table>\n",
       "</div>"
      ],
      "text/plain": [
       "        similar       all     score  movieId                        title  \\\n",
       "0      1.000000  0.124728  8.017414        1             Toy Story (1995)   \n",
       "3021   0.280648  0.053706  5.225654     3114           Toy Story 2 (1999)   \n",
       "2264   0.110539  0.025091  4.405452     2355         Bug's Life, A (1998)   \n",
       "14813  0.152960  0.035131  4.354038    78499           Toy Story 3 (2010)   \n",
       "4780   0.235147  0.070811  3.320783     4886        Monsters, Inc. (2001)   \n",
       "580    0.216618  0.067513  3.208539      588               Aladdin (1992)   \n",
       "6258   0.228139  0.072268  3.156862     6377          Finding Nemo (2003)   \n",
       "587    0.179400  0.059977  2.991150      595  Beauty and the Beast (1991)   \n",
       "8246   0.203504  0.068453  2.972889     8961      Incredibles, The (2004)   \n",
       "359    0.253411  0.085764  2.954762      364        Lion King, The (1994)   \n",
       "\n",
       "                                                 genres  \\\n",
       "0           Adventure|Animation|Children|Comedy|Fantasy   \n",
       "3021        Adventure|Animation|Children|Comedy|Fantasy   \n",
       "2264                Adventure|Animation|Children|Comedy   \n",
       "14813  Adventure|Animation|Children|Comedy|Fantasy|IMAX   \n",
       "4780        Adventure|Animation|Children|Comedy|Fantasy   \n",
       "580         Adventure|Animation|Children|Comedy|Musical   \n",
       "6258                Adventure|Animation|Children|Comedy   \n",
       "587     Animation|Children|Fantasy|Musical|Romance|IMAX   \n",
       "8246         Action|Adventure|Animation|Children|Comedy   \n",
       "359     Adventure|Animation|Children|Drama|Musical|IMAX   \n",
       "\n",
       "                     clean_title  \n",
       "0                 Toy Story 1995  \n",
       "3021            Toy Story 2 1999  \n",
       "2264            Bugs Life A 1998  \n",
       "14813           Toy Story 3 2010  \n",
       "4780           Monsters Inc 2001  \n",
       "580                 Aladdin 1992  \n",
       "6258           Finding Nemo 2003  \n",
       "587    Beauty and the Beast 1991  \n",
       "8246        Incredibles The 2004  \n",
       "359           Lion King The 1994  "
      ]
     },
     "execution_count": 64,
     "metadata": {},
     "output_type": "execute_result"
    }
   ],
   "source": [
    "rec_percentages.head(10).merge(movies, left_index=True, right_on=\"movieId\")"
   ]
  },
  {
   "cell_type": "code",
   "execution_count": 1,
   "id": "bc7bbee0-de3f-4374-a317-c2474365fab1",
   "metadata": {},
   "outputs": [],
   "source": [
    "def find_similar_movies(movie_id):\n",
    "    similar_users = ratings[(ratings[\"movieId\"] == movie_id) & (ratings[\"rating\"] > 4)][\"userId\"].unique()\n",
    "    similar_user_recs = ratings[(ratings[\"userId\"].isin(similar_users)) & (ratings[\"rating\"] > 4)][\"movieId\"]\n",
    "    similar_user_recs = similar_user_recs.value_counts() / len(similar_users)\n",
    "\n",
    "    similar_user_recs = similar_user_recs[similar_user_recs > .10]\n",
    "    all_users = ratings[(ratings[\"movieId\"].isin(similar_user_recs.index)) & (ratings[\"rating\"] > 4)]\n",
    "    all_user_recs = all_users[\"movieId\"].value_counts() / len(all_users[\"userId\"].unique())\n",
    "    rec_percentages = pd.concat([similar_user_recs, all_user_recs], axis=1)\n",
    "    rec_percentages.columns = [\"similar\", \"all\"]\n",
    "    \n",
    "    rec_percentages[\"score\"] = rec_percentages[\"similar\"] / rec_percentages[\"all\"]\n",
    "    rec_percentages = rec_percentages.sort_values(\"score\", ascending=False)\n",
    "    return rec_percentages.head(10).merge(movies, left_index=True, right_on=\"movieId\")[[\"score\", \"title\", \"genres\"]]"
   ]
  },
  {
   "cell_type": "code",
   "execution_count": 2,
   "id": "b169ab20-9964-4240-a3ed-cda7164b484c",
   "metadata": {},
   "outputs": [
    {
     "data": {
      "application/vnd.jupyter.widget-view+json": {
       "model_id": "cfa49531d2484792a51cc2b9d9c4deb6",
       "version_major": 2,
       "version_minor": 0
      },
      "text/plain": [
       "Text(value='Toy Story', description='Movie Title:')"
      ]
     },
     "metadata": {},
     "output_type": "display_data"
    },
    {
     "data": {
      "application/vnd.jupyter.widget-view+json": {
       "model_id": "844948cd448e4c318162d0f4988a90a0",
       "version_major": 2,
       "version_minor": 0
      },
      "text/plain": [
       "Output()"
      ]
     },
     "metadata": {},
     "output_type": "display_data"
    }
   ],
   "source": [
    "import ipywidgets as widgets\n",
    "from IPython.display import display\n",
    "\n",
    "movie_name_input = widgets.Text(\n",
    "    value='Toy Story',\n",
    "    description='Movie Title:',\n",
    "    disabled=False\n",
    ")\n",
    "recommendation_list = widgets.Output()\n",
    "\n",
    "def on_type(data):\n",
    "    with recommendation_list:\n",
    "        recommendation_list.clear_output()\n",
    "        title = data[\"new\"]\n",
    "        if len(title) > 5:\n",
    "            results = search(title)\n",
    "            movie_id = results.iloc[0][\"movieId\"]\n",
    "            display(find_similar_movies(movie_id))\n",
    "\n",
    "movie_name_input.observe(on_type, names='value')\n",
    "\n",
    "display(movie_name_input, recommendation_list)"
   ]
  },
  {
   "cell_type": "code",
   "execution_count": null,
   "id": "0872401a-1aa7-4b36-b6fc-d1f13bd1e9c2",
   "metadata": {},
   "outputs": [],
   "source": []
  }
 ],
 "metadata": {
  "kernelspec": {
   "display_name": "Python 3 (ipykernel)",
   "language": "python",
   "name": "python3"
  },
  "language_info": {
   "codemirror_mode": {
    "name": "ipython",
    "version": 3
   },
   "file_extension": ".py",
   "mimetype": "text/x-python",
   "name": "python",
   "nbconvert_exporter": "python",
   "pygments_lexer": "ipython3",
   "version": "3.10.12"
  }
 },
 "nbformat": 4,
 "nbformat_minor": 5
}
